{
 "cells": [
  {
   "cell_type": "code",
   "execution_count": 7,
   "id": "2a4afe9d-b988-4b7a-87eb-7fec5ab4bba3",
   "metadata": {},
   "outputs": [],
   "source": [
    "import os\n",
    "import sys\n",
    "import importlib\n",
    "def import_local_module(module_path: str):\n",
    "    sys.path.append('')\n",
    "    module = importlib.import_module(module_path)\n",
    "    return importlib.reload(module)\n",
    "\n",
    "setup = import_local_module(\"trainer_engine.setup\")\n",
    "setup.setup_environment()"
   ]
  },
  {
   "cell_type": "code",
   "execution_count": 10,
   "id": "59ff6d87-0938-4f5f-88d4-ab64884361e0",
   "metadata": {},
   "outputs": [],
   "source": [
    "utils = import_local_module(\"trainer_engine.utils\")\n",
    "jax_utils = import_local_module(\"trainer_engine.jax_utils\")\n",
    "\n",
    "checkpoint_lib = import_local_module(\"trainer_engine.checkpoint_lib\")\n",
    "training_pipeline = import_local_module(\"trainer_engine.trainer_lib\")\n",
    "\n",
    "llama_model = import_local_module(\"llama_model\")"
   ]
  }
 ],
 "metadata": {
  "kernelspec": {
   "display_name": "Python 3 (ipykernel)",
   "language": "python",
   "name": "python3"
  },
  "language_info": {
   "codemirror_mode": {
    "name": "ipython",
    "version": 3
   },
   "file_extension": ".py",
   "mimetype": "text/x-python",
   "name": "python",
   "nbconvert_exporter": "python",
   "pygments_lexer": "ipython3",
   "version": "3.10.14"
  }
 },
 "nbformat": 4,
 "nbformat_minor": 5
}
